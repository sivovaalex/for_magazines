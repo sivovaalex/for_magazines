{
  "nbformat": 4,
  "nbformat_minor": 0,
  "metadata": {
    "colab": {
      "name": "crime_wak.ipynb",
      "provenance": [],
      "collapsed_sections": []
    },
    "kernelspec": {
      "display_name": "Python 3",
      "name": "python3"
    }
  },
  "cells": [
    {
      "cell_type": "code",
      "metadata": {
        "id": "W0iZyUVYNOsT",
        "colab": {
          "base_uri": "https://localhost:8080/"
        },
        "outputId": "c1475e6b-466a-4e27-dbe6-be8ae0ccec06"
      },
      "source": [
        "'''from google.colab import drive\n",
        "drive.mount('/content/drive')'''"
      ],
      "execution_count": null,
      "outputs": [
        {
          "output_type": "stream",
          "text": [
            "Drive already mounted at /content/drive; to attempt to forcibly remount, call drive.mount(\"/content/drive\", force_remount=True).\n"
          ],
          "name": "stdout"
        }
      ]
    },
    {
      "cell_type": "markdown",
      "metadata": {
        "id": "sq6vM_YxxlOk"
      },
      "source": [
        "Импортируем все необходимые библиотеки"
      ]
    },
    {
      "cell_type": "code",
      "metadata": {
        "id": "omeNYjh0w3W0"
      },
      "source": [
        "import pandas as pd\n",
        "import xgboost as xgb\n",
        "from sklearn.model_selection import train_test_split\n",
        "from sklearn.model_selection import cross_val_score, KFold\n",
        "from sklearn.metrics import mean_squared_error\n",
        "import matplotlib.pyplot as plt\n",
        "from sklearn.tree import DecisionTreeRegressor \n",
        "import numpy as np"
      ],
      "execution_count": null,
      "outputs": []
    },
    {
      "cell_type": "markdown",
      "metadata": {
        "id": "F6080vECxroc"
      },
      "source": [
        "Загружаем данные и смотрим на них\n",
        "\n",
        "https://www.kaggle.com/tsarkov90/crime-in-russia-20032020"
      ]
    },
    {
      "cell_type": "code",
      "metadata": {
        "id": "hGTO8kI5OEj-"
      },
      "source": [
        "data = pd.read_csv('/content/drive/My Drive/crime.csv')"
      ],
      "execution_count": null,
      "outputs": []
    },
    {
      "cell_type": "code",
      "metadata": {
        "id": "t33-sML4P-ou",
        "colab": {
          "base_uri": "https://localhost:8080/",
          "height": 402
        },
        "outputId": "c146c959-1928-4cb2-bdfc-a653fa0c54ca"
      },
      "source": [
        "data"
      ],
      "execution_count": null,
      "outputs": [
        {
          "output_type": "execute_result",
          "data": {
            "text/html": [
              "<div>\n",
              "<style scoped>\n",
              "    .dataframe tbody tr th:only-of-type {\n",
              "        vertical-align: middle;\n",
              "    }\n",
              "\n",
              "    .dataframe tbody tr th {\n",
              "        vertical-align: top;\n",
              "    }\n",
              "\n",
              "    .dataframe thead th {\n",
              "        text-align: right;\n",
              "    }\n",
              "</style>\n",
              "<table border=\"1\" class=\"dataframe\">\n",
              "  <thead>\n",
              "    <tr style=\"text-align: right;\">\n",
              "      <th></th>\n",
              "      <th>month</th>\n",
              "      <th>Total_crimes</th>\n",
              "      <th>Serious</th>\n",
              "      <th>Huge_damage</th>\n",
              "      <th>Ecological</th>\n",
              "      <th>Terrorism</th>\n",
              "      <th>Extremism</th>\n",
              "      <th>Murder</th>\n",
              "      <th>Harm_to_health</th>\n",
              "      <th>Rape</th>\n",
              "      <th>Theft</th>\n",
              "      <th>Vehicle_theft</th>\n",
              "      <th>Fraud_scam</th>\n",
              "      <th>Hooligan</th>\n",
              "      <th>Drugs</th>\n",
              "      <th>Weapons</th>\n",
              "    </tr>\n",
              "  </thead>\n",
              "  <tbody>\n",
              "    <tr>\n",
              "      <th>0</th>\n",
              "      <td>01.01.2003</td>\n",
              "      <td>214587.0</td>\n",
              "      <td>88203.0</td>\n",
              "      <td>20162.0</td>\n",
              "      <td>1216.0</td>\n",
              "      <td>630.0</td>\n",
              "      <td>13.0</td>\n",
              "      <td>2749.0</td>\n",
              "      <td>5559.0</td>\n",
              "      <td>574.0</td>\n",
              "      <td>81014.0</td>\n",
              "      <td>3549.0</td>\n",
              "      <td>7731.0</td>\n",
              "      <td>10560.0</td>\n",
              "      <td>16006.0</td>\n",
              "      <td>4661.0</td>\n",
              "    </tr>\n",
              "    <tr>\n",
              "      <th>1</th>\n",
              "      <td>01.02.2003</td>\n",
              "      <td>221928.0</td>\n",
              "      <td>88863.0</td>\n",
              "      <td>20889.0</td>\n",
              "      <td>1701.0</td>\n",
              "      <td>678.0</td>\n",
              "      <td>5.0</td>\n",
              "      <td>2444.0</td>\n",
              "      <td>4732.0</td>\n",
              "      <td>515.0</td>\n",
              "      <td>95970.0</td>\n",
              "      <td>3697.0</td>\n",
              "      <td>7607.0</td>\n",
              "      <td>10816.0</td>\n",
              "      <td>16839.0</td>\n",
              "      <td>5364.0</td>\n",
              "    </tr>\n",
              "    <tr>\n",
              "      <th>2</th>\n",
              "      <td>01.03.2003</td>\n",
              "      <td>248452.0</td>\n",
              "      <td>101349.0</td>\n",
              "      <td>24053.0</td>\n",
              "      <td>1817.0</td>\n",
              "      <td>809.0</td>\n",
              "      <td>10.0</td>\n",
              "      <td>2864.0</td>\n",
              "      <td>4851.0</td>\n",
              "      <td>560.0</td>\n",
              "      <td>79420.0</td>\n",
              "      <td>4327.0</td>\n",
              "      <td>9437.0</td>\n",
              "      <td>11813.0</td>\n",
              "      <td>20176.0</td>\n",
              "      <td>5938.0</td>\n",
              "    </tr>\n",
              "    <tr>\n",
              "      <th>3</th>\n",
              "      <td>01.04.2003</td>\n",
              "      <td>236299.0</td>\n",
              "      <td>91625.0</td>\n",
              "      <td>19754.0</td>\n",
              "      <td>2449.0</td>\n",
              "      <td>892.0</td>\n",
              "      <td>10.0</td>\n",
              "      <td>2919.0</td>\n",
              "      <td>4722.0</td>\n",
              "      <td>668.0</td>\n",
              "      <td>95215.0</td>\n",
              "      <td>5345.0</td>\n",
              "      <td>7824.0</td>\n",
              "      <td>12636.0</td>\n",
              "      <td>16614.0</td>\n",
              "      <td>5230.0</td>\n",
              "    </tr>\n",
              "    <tr>\n",
              "      <th>4</th>\n",
              "      <td>01.05.2003</td>\n",
              "      <td>230931.0</td>\n",
              "      <td>89615.0</td>\n",
              "      <td>17519.0</td>\n",
              "      <td>3530.0</td>\n",
              "      <td>796.0</td>\n",
              "      <td>20.0</td>\n",
              "      <td>2713.0</td>\n",
              "      <td>4895.0</td>\n",
              "      <td>688.0</td>\n",
              "      <td>94505.0</td>\n",
              "      <td>6374.0</td>\n",
              "      <td>7122.0</td>\n",
              "      <td>12234.0</td>\n",
              "      <td>14413.0</td>\n",
              "      <td>5112.0</td>\n",
              "    </tr>\n",
              "    <tr>\n",
              "      <th>...</th>\n",
              "      <td>...</td>\n",
              "      <td>...</td>\n",
              "      <td>...</td>\n",
              "      <td>...</td>\n",
              "      <td>...</td>\n",
              "      <td>...</td>\n",
              "      <td>...</td>\n",
              "      <td>...</td>\n",
              "      <td>...</td>\n",
              "      <td>...</td>\n",
              "      <td>...</td>\n",
              "      <td>...</td>\n",
              "      <td>...</td>\n",
              "      <td>...</td>\n",
              "      <td>...</td>\n",
              "      <td>...</td>\n",
              "    </tr>\n",
              "    <tr>\n",
              "      <th>200</th>\n",
              "      <td>01.09.2019</td>\n",
              "      <td>166208.0</td>\n",
              "      <td>38967.0</td>\n",
              "      <td>64283.0</td>\n",
              "      <td>1858.0</td>\n",
              "      <td>122.0</td>\n",
              "      <td>48.0</td>\n",
              "      <td>555.0</td>\n",
              "      <td>1570.0</td>\n",
              "      <td>306.0</td>\n",
              "      <td>67006.0</td>\n",
              "      <td>1903.0</td>\n",
              "      <td>21557.0</td>\n",
              "      <td>155.0</td>\n",
              "      <td>15100.0</td>\n",
              "      <td>1945.0</td>\n",
              "    </tr>\n",
              "    <tr>\n",
              "      <th>201</th>\n",
              "      <td>01.10.2019</td>\n",
              "      <td>199038.0</td>\n",
              "      <td>53319.0</td>\n",
              "      <td>81775.0</td>\n",
              "      <td>2322.0</td>\n",
              "      <td>111.0</td>\n",
              "      <td>52.0</td>\n",
              "      <td>668.0</td>\n",
              "      <td>1846.0</td>\n",
              "      <td>223.0</td>\n",
              "      <td>81053.0</td>\n",
              "      <td>2197.0</td>\n",
              "      <td>27980.0</td>\n",
              "      <td>180.0</td>\n",
              "      <td>20510.0</td>\n",
              "      <td>1744.0</td>\n",
              "    </tr>\n",
              "    <tr>\n",
              "      <th>202</th>\n",
              "      <td>01.11.2019</td>\n",
              "      <td>148104.0</td>\n",
              "      <td>31652.0</td>\n",
              "      <td>49623.0</td>\n",
              "      <td>1581.0</td>\n",
              "      <td>149.0</td>\n",
              "      <td>27.0</td>\n",
              "      <td>622.0</td>\n",
              "      <td>1467.0</td>\n",
              "      <td>246.0</td>\n",
              "      <td>57434.0</td>\n",
              "      <td>1344.0</td>\n",
              "      <td>19794.0</td>\n",
              "      <td>132.0</td>\n",
              "      <td>11067.0</td>\n",
              "      <td>1742.0</td>\n",
              "    </tr>\n",
              "    <tr>\n",
              "      <th>203</th>\n",
              "      <td>01.12.2019</td>\n",
              "      <td>155512.0</td>\n",
              "      <td>38470.0</td>\n",
              "      <td>60742.0</td>\n",
              "      <td>1526.0</td>\n",
              "      <td>164.0</td>\n",
              "      <td>52.0</td>\n",
              "      <td>534.0</td>\n",
              "      <td>1644.0</td>\n",
              "      <td>134.0</td>\n",
              "      <td>63327.0</td>\n",
              "      <td>1374.0</td>\n",
              "      <td>22588.0</td>\n",
              "      <td>155.0</td>\n",
              "      <td>13451.0</td>\n",
              "      <td>1754.0</td>\n",
              "    </tr>\n",
              "    <tr>\n",
              "      <th>204</th>\n",
              "      <td>01.01.2020</td>\n",
              "      <td>159172.0</td>\n",
              "      <td>44134.0</td>\n",
              "      <td>57020.0</td>\n",
              "      <td>1264.0</td>\n",
              "      <td>118.0</td>\n",
              "      <td>62.0</td>\n",
              "      <td>723.0</td>\n",
              "      <td>2075.0</td>\n",
              "      <td>296.0</td>\n",
              "      <td>53977.0</td>\n",
              "      <td>1092.0</td>\n",
              "      <td>22189.0</td>\n",
              "      <td>153.0</td>\n",
              "      <td>15463.0</td>\n",
              "      <td>2104.0</td>\n",
              "    </tr>\n",
              "  </tbody>\n",
              "</table>\n",
              "<p>205 rows × 16 columns</p>\n",
              "</div>"
            ],
            "text/plain": [
              "          month  Total_crimes   Serious  ...  Hooligan    Drugs  Weapons\n",
              "0    01.01.2003      214587.0   88203.0  ...   10560.0  16006.0   4661.0\n",
              "1    01.02.2003      221928.0   88863.0  ...   10816.0  16839.0   5364.0\n",
              "2    01.03.2003      248452.0  101349.0  ...   11813.0  20176.0   5938.0\n",
              "3    01.04.2003      236299.0   91625.0  ...   12636.0  16614.0   5230.0\n",
              "4    01.05.2003      230931.0   89615.0  ...   12234.0  14413.0   5112.0\n",
              "..          ...           ...       ...  ...       ...      ...      ...\n",
              "200  01.09.2019      166208.0   38967.0  ...     155.0  15100.0   1945.0\n",
              "201  01.10.2019      199038.0   53319.0  ...     180.0  20510.0   1744.0\n",
              "202  01.11.2019      148104.0   31652.0  ...     132.0  11067.0   1742.0\n",
              "203  01.12.2019      155512.0   38470.0  ...     155.0  13451.0   1754.0\n",
              "204  01.01.2020      159172.0   44134.0  ...     153.0  15463.0   2104.0\n",
              "\n",
              "[205 rows x 16 columns]"
            ]
          },
          "metadata": {
            "tags": []
          },
          "execution_count": 3
        }
      ]
    },
    {
      "cell_type": "markdown",
      "metadata": {
        "id": "WTAK7921xziD"
      },
      "source": [
        "Преобразовываем столбец даты в формат месяц.год"
      ]
    },
    {
      "cell_type": "code",
      "metadata": {
        "id": "hyZSywT-VeTG"
      },
      "source": [
        "data['месяц_год'] = data['month'].map(lambda x: x[3:])\n",
        "data['общее_количество_преступлений'] = data['Total_crimes']"
      ],
      "execution_count": null,
      "outputs": []
    },
    {
      "cell_type": "code",
      "metadata": {
        "id": "gsCDBq-njAXV",
        "colab": {
          "base_uri": "https://localhost:8080/",
          "height": 402
        },
        "outputId": "f4efa0e0-7dd0-4dd1-9631-f5fafaad2ce8"
      },
      "source": [
        "data[['месяц_год', 'общее_количество_преступлений']]"
      ],
      "execution_count": null,
      "outputs": [
        {
          "output_type": "execute_result",
          "data": {
            "text/html": [
              "<div>\n",
              "<style scoped>\n",
              "    .dataframe tbody tr th:only-of-type {\n",
              "        vertical-align: middle;\n",
              "    }\n",
              "\n",
              "    .dataframe tbody tr th {\n",
              "        vertical-align: top;\n",
              "    }\n",
              "\n",
              "    .dataframe thead th {\n",
              "        text-align: right;\n",
              "    }\n",
              "</style>\n",
              "<table border=\"1\" class=\"dataframe\">\n",
              "  <thead>\n",
              "    <tr style=\"text-align: right;\">\n",
              "      <th></th>\n",
              "      <th>месяц_год</th>\n",
              "      <th>общее_количество_преступлений</th>\n",
              "    </tr>\n",
              "  </thead>\n",
              "  <tbody>\n",
              "    <tr>\n",
              "      <th>0</th>\n",
              "      <td>01.2003</td>\n",
              "      <td>214587.0</td>\n",
              "    </tr>\n",
              "    <tr>\n",
              "      <th>1</th>\n",
              "      <td>02.2003</td>\n",
              "      <td>221928.0</td>\n",
              "    </tr>\n",
              "    <tr>\n",
              "      <th>2</th>\n",
              "      <td>03.2003</td>\n",
              "      <td>248452.0</td>\n",
              "    </tr>\n",
              "    <tr>\n",
              "      <th>3</th>\n",
              "      <td>04.2003</td>\n",
              "      <td>236299.0</td>\n",
              "    </tr>\n",
              "    <tr>\n",
              "      <th>4</th>\n",
              "      <td>05.2003</td>\n",
              "      <td>230931.0</td>\n",
              "    </tr>\n",
              "    <tr>\n",
              "      <th>...</th>\n",
              "      <td>...</td>\n",
              "      <td>...</td>\n",
              "    </tr>\n",
              "    <tr>\n",
              "      <th>200</th>\n",
              "      <td>09.2019</td>\n",
              "      <td>166208.0</td>\n",
              "    </tr>\n",
              "    <tr>\n",
              "      <th>201</th>\n",
              "      <td>10.2019</td>\n",
              "      <td>199038.0</td>\n",
              "    </tr>\n",
              "    <tr>\n",
              "      <th>202</th>\n",
              "      <td>11.2019</td>\n",
              "      <td>148104.0</td>\n",
              "    </tr>\n",
              "    <tr>\n",
              "      <th>203</th>\n",
              "      <td>12.2019</td>\n",
              "      <td>155512.0</td>\n",
              "    </tr>\n",
              "    <tr>\n",
              "      <th>204</th>\n",
              "      <td>01.2020</td>\n",
              "      <td>159172.0</td>\n",
              "    </tr>\n",
              "  </tbody>\n",
              "</table>\n",
              "<p>205 rows × 2 columns</p>\n",
              "</div>"
            ],
            "text/plain": [
              "    месяц_год  общее_количество_преступлений\n",
              "0     01.2003                       214587.0\n",
              "1     02.2003                       221928.0\n",
              "2     03.2003                       248452.0\n",
              "3     04.2003                       236299.0\n",
              "4     05.2003                       230931.0\n",
              "..        ...                            ...\n",
              "200   09.2019                       166208.0\n",
              "201   10.2019                       199038.0\n",
              "202   11.2019                       148104.0\n",
              "203   12.2019                       155512.0\n",
              "204   01.2020                       159172.0\n",
              "\n",
              "[205 rows x 2 columns]"
            ]
          },
          "metadata": {
            "tags": []
          },
          "execution_count": 5
        }
      ]
    },
    {
      "cell_type": "markdown",
      "metadata": {
        "id": "dBvJCirVyPlM"
      },
      "source": [
        "Преобразовываем месяц.год в удобных для обучения компьютера формат: нумерация от 1 (01.2003) до 204 (01.2020)"
      ]
    },
    {
      "cell_type": "code",
      "metadata": {
        "id": "7Ngo3aEHdgNY"
      },
      "source": [
        "data['месяц_год_нумированный'] = [i for i in range(data['month'].count())]"
      ],
      "execution_count": null,
      "outputs": []
    },
    {
      "cell_type": "code",
      "metadata": {
        "id": "1ajNhqcDduw4",
        "colab": {
          "base_uri": "https://localhost:8080/",
          "height": 402
        },
        "outputId": "24141055-9f5a-4cea-a2e1-29e469188d35"
      },
      "source": [
        "data[['месяц_год','месяц_год_нумированный','общее_количество_преступлений']]"
      ],
      "execution_count": null,
      "outputs": [
        {
          "output_type": "execute_result",
          "data": {
            "text/html": [
              "<div>\n",
              "<style scoped>\n",
              "    .dataframe tbody tr th:only-of-type {\n",
              "        vertical-align: middle;\n",
              "    }\n",
              "\n",
              "    .dataframe tbody tr th {\n",
              "        vertical-align: top;\n",
              "    }\n",
              "\n",
              "    .dataframe thead th {\n",
              "        text-align: right;\n",
              "    }\n",
              "</style>\n",
              "<table border=\"1\" class=\"dataframe\">\n",
              "  <thead>\n",
              "    <tr style=\"text-align: right;\">\n",
              "      <th></th>\n",
              "      <th>месяц_год</th>\n",
              "      <th>месяц_год_нумированный</th>\n",
              "      <th>общее_количество_преступлений</th>\n",
              "    </tr>\n",
              "  </thead>\n",
              "  <tbody>\n",
              "    <tr>\n",
              "      <th>0</th>\n",
              "      <td>01.2003</td>\n",
              "      <td>0</td>\n",
              "      <td>214587.0</td>\n",
              "    </tr>\n",
              "    <tr>\n",
              "      <th>1</th>\n",
              "      <td>02.2003</td>\n",
              "      <td>1</td>\n",
              "      <td>221928.0</td>\n",
              "    </tr>\n",
              "    <tr>\n",
              "      <th>2</th>\n",
              "      <td>03.2003</td>\n",
              "      <td>2</td>\n",
              "      <td>248452.0</td>\n",
              "    </tr>\n",
              "    <tr>\n",
              "      <th>3</th>\n",
              "      <td>04.2003</td>\n",
              "      <td>3</td>\n",
              "      <td>236299.0</td>\n",
              "    </tr>\n",
              "    <tr>\n",
              "      <th>4</th>\n",
              "      <td>05.2003</td>\n",
              "      <td>4</td>\n",
              "      <td>230931.0</td>\n",
              "    </tr>\n",
              "    <tr>\n",
              "      <th>...</th>\n",
              "      <td>...</td>\n",
              "      <td>...</td>\n",
              "      <td>...</td>\n",
              "    </tr>\n",
              "    <tr>\n",
              "      <th>200</th>\n",
              "      <td>09.2019</td>\n",
              "      <td>200</td>\n",
              "      <td>166208.0</td>\n",
              "    </tr>\n",
              "    <tr>\n",
              "      <th>201</th>\n",
              "      <td>10.2019</td>\n",
              "      <td>201</td>\n",
              "      <td>199038.0</td>\n",
              "    </tr>\n",
              "    <tr>\n",
              "      <th>202</th>\n",
              "      <td>11.2019</td>\n",
              "      <td>202</td>\n",
              "      <td>148104.0</td>\n",
              "    </tr>\n",
              "    <tr>\n",
              "      <th>203</th>\n",
              "      <td>12.2019</td>\n",
              "      <td>203</td>\n",
              "      <td>155512.0</td>\n",
              "    </tr>\n",
              "    <tr>\n",
              "      <th>204</th>\n",
              "      <td>01.2020</td>\n",
              "      <td>204</td>\n",
              "      <td>159172.0</td>\n",
              "    </tr>\n",
              "  </tbody>\n",
              "</table>\n",
              "<p>205 rows × 3 columns</p>\n",
              "</div>"
            ],
            "text/plain": [
              "    месяц_год  месяц_год_нумированный  общее_количество_преступлений\n",
              "0     01.2003                       0                       214587.0\n",
              "1     02.2003                       1                       221928.0\n",
              "2     03.2003                       2                       248452.0\n",
              "3     04.2003                       3                       236299.0\n",
              "4     05.2003                       4                       230931.0\n",
              "..        ...                     ...                            ...\n",
              "200   09.2019                     200                       166208.0\n",
              "201   10.2019                     201                       199038.0\n",
              "202   11.2019                     202                       148104.0\n",
              "203   12.2019                     203                       155512.0\n",
              "204   01.2020                     204                       159172.0\n",
              "\n",
              "[205 rows x 3 columns]"
            ]
          },
          "metadata": {
            "tags": []
          },
          "execution_count": 9
        }
      ]
    },
    {
      "cell_type": "markdown",
      "metadata": {
        "id": "390YM2exynTD"
      },
      "source": [
        "Задаём независимую переменную х (преобразованная нумерованная дата) и предсказываемую зависимую переменную у (общее количество преступлений)"
      ]
    },
    {
      "cell_type": "code",
      "metadata": {
        "id": "fEPZa5pLTLgH"
      },
      "source": [
        "x = data.iloc[:, 16].values\n",
        "y = data.iloc[:, 1].values"
      ],
      "execution_count": null,
      "outputs": []
    },
    {
      "cell_type": "code",
      "metadata": {
        "id": "2fhQxLyNVdyW",
        "colab": {
          "base_uri": "https://localhost:8080/"
        },
        "outputId": "792b6831-a86a-4375-8175-bacacfab0237"
      },
      "source": [
        "x"
      ],
      "execution_count": null,
      "outputs": [
        {
          "output_type": "execute_result",
          "data": {
            "text/plain": [
              "array([  0,   1,   2,   3,   4,   5,   6,   7,   8,   9,  10,  11,  12,\n",
              "        13,  14,  15,  16,  17,  18,  19,  20,  21,  22,  23,  24,  25,\n",
              "        26,  27,  28,  29,  30,  31,  32,  33,  34,  35,  36,  37,  38,\n",
              "        39,  40,  41,  42,  43,  44,  45,  46,  47,  48,  49,  50,  51,\n",
              "        52,  53,  54,  55,  56,  57,  58,  59,  60,  61,  62,  63,  64,\n",
              "        65,  66,  67,  68,  69,  70,  71,  72,  73,  74,  75,  76,  77,\n",
              "        78,  79,  80,  81,  82,  83,  84,  85,  86,  87,  88,  89,  90,\n",
              "        91,  92,  93,  94,  95,  96,  97,  98,  99, 100, 101, 102, 103,\n",
              "       104, 105, 106, 107, 108, 109, 110, 111, 112, 113, 114, 115, 116,\n",
              "       117, 118, 119, 120, 121, 122, 123, 124, 125, 126, 127, 128, 129,\n",
              "       130, 131, 132, 133, 134, 135, 136, 137, 138, 139, 140, 141, 142,\n",
              "       143, 144, 145, 146, 147, 148, 149, 150, 151, 152, 153, 154, 155,\n",
              "       156, 157, 158, 159, 160, 161, 162, 163, 164, 165, 166, 167, 168,\n",
              "       169, 170, 171, 172, 173, 174, 175, 176, 177, 178, 179, 180, 181,\n",
              "       182, 183, 184, 185, 186, 187, 188, 189, 190, 191, 192, 193, 194,\n",
              "       195, 196, 197, 198, 199, 200, 201, 202, 203, 204])"
            ]
          },
          "metadata": {
            "tags": []
          },
          "execution_count": 11
        }
      ]
    },
    {
      "cell_type": "markdown",
      "metadata": {
        "id": "8KBEqISCzZSu"
      },
      "source": [
        "Нарисуем график у(х)"
      ]
    },
    {
      "cell_type": "code",
      "metadata": {
        "id": "tbChoqJ0S2_p",
        "colab": {
          "base_uri": "https://localhost:8080/",
          "height": 406
        },
        "outputId": "e36f49cf-98a9-4808-e6b6-d770ebac06e5"
      },
      "source": [
        "plt.figure(figsize=(10, 6))\n",
        "plt.xlim(xmin=0, xmax=max(data['month_n']))\n",
        "plt.xlabel('преобразованный месяц_год')\n",
        "plt.ylabel('количество преступлений')\n",
        "plt.grid()\n",
        "plt.plot(x, y)\n"
      ],
      "execution_count": null,
      "outputs": [
        {
          "output_type": "execute_result",
          "data": {
            "text/plain": [
              "[<matplotlib.lines.Line2D at 0x7fbe5cdf8828>]"
            ]
          },
          "metadata": {
            "tags": []
          },
          "execution_count": 59
        },
        {
          "output_type": "display_data",
          "data": {
            "image/png": "[encoded data removed]",
            "text/plain": [
              "<Figure size 720x432 with 1 Axes>"
            ]
          },
          "metadata": {
            "tags": []
          }
        }
      ]
    },
    {
      "cell_type": "markdown",
      "metadata": {
        "id": "__L5z5v3zffe"
      },
      "source": [
        "Т.к. модели регрессии принимают х начиная с 2х измерений, то преобразуем [0,1,2..204] в [[0,],[1,],[2,]..[204,]]\n",
        "\n",
        "Делим выборку на тренировочную и тестовую 40%"
      ]
    },
    {
      "cell_type": "code",
      "metadata": {
        "id": "AxPHz3PUP-3r"
      },
      "source": [
        "x = x.reshape(-1, 1)\n",
        "xtrain, xtest, ytrain, ytest=train_test_split(x, y, test_size=0.4, random_state=1)\n"
      ],
      "execution_count": null,
      "outputs": []
    },
    {
      "cell_type": "markdown",
      "metadata": {
        "id": "IBhoeLEJ0vH0"
      },
      "source": [
        "Используем Decision Tree Regression c глубиной 5 в качестве модели обучения"
      ]
    },
    {
      "cell_type": "code",
      "metadata": {
        "id": "A8cbGLZ5eKvZ",
        "colab": {
          "base_uri": "https://localhost:8080/"
        },
        "outputId": "38b55306-5372-43e4-ea14-23dfa7627d96"
      },
      "source": [
        "dtr = DecisionTreeRegressor(max_depth=5)\n",
        "dtr.fit(xtrain, ytrain)"
      ],
      "execution_count": null,
      "outputs": [
        {
          "output_type": "execute_result",
          "data": {
            "text/plain": [
              "DecisionTreeRegressor(ccp_alpha=0.0, criterion='mse', max_depth=5,\n",
              "                      max_features=None, max_leaf_nodes=None,\n",
              "                      min_impurity_decrease=0.0, min_impurity_split=None,\n",
              "                      min_samples_leaf=1, min_samples_split=2,\n",
              "                      min_weight_fraction_leaf=0.0, presort='deprecated',\n",
              "                      random_state=None, splitter='best')"
            ]
          },
          "metadata": {
            "tags": []
          },
          "execution_count": 62
        }
      ]
    },
    {
      "cell_type": "markdown",
      "metadata": {
        "id": "IrDFsoyP0-sk"
      },
      "source": [
        "Предсказываем на тестовой выборке результат и считаем метрику MSE, RMSE"
      ]
    },
    {
      "cell_type": "code",
      "metadata": {
        "id": "_zbrup8kRQwC",
        "colab": {
          "base_uri": "https://localhost:8080/"
        },
        "outputId": "9b7e43ae-5d62-4bda-e7ea-4d6f7a23736c"
      },
      "source": [
        "ypred = dtr.predict(xtest)\n",
        "mse = mean_squared_error(ytest, ypred)\n",
        "print(\"MSE: %.2f\" % mse)\n",
        "print(\"RMSE: %.2f\" % (mse**(1/2.0)))"
      ],
      "execution_count": null,
      "outputs": [
        {
          "output_type": "stream",
          "text": [
            "MSE: 386615341.74\n",
            "RMSE: 19662.54\n"
          ],
          "name": "stdout"
        }
      ]
    },
    {
      "cell_type": "code",
      "metadata": {
        "id": "Bth2QUHwYcCc"
      },
      "source": [
        "x_te = [int(i) for i in xtest]"
      ],
      "execution_count": null,
      "outputs": []
    },
    {
      "cell_type": "code",
      "metadata": {
        "id": "nQqjsmvaak9M"
      },
      "source": [
        "def num_to_date(n):\n",
        "  y = str(n//12+2003)\n",
        "  m = str(n%12+1)\n",
        "  return m+'.'+y"
      ],
      "execution_count": null,
      "outputs": []
    },
    {
      "cell_type": "markdown",
      "metadata": {
        "id": "X-4Puc2212Y-"
      },
      "source": [
        "Создаём набор данных с ответами data_an, cостоящий из:\n",
        "\n",
        "*   возвращённые нумерованные даты 'x_тестовое' в человекочитаемый вид 'x_тестовое_дата' с помощью функции num_to_date(n)\n",
        "*   тестовые значения у\n",
        "*   значение у, предсказанное моделью dtr\n",
        "\n",
        "\n",
        "\n",
        "\n"
      ]
    },
    {
      "cell_type": "code",
      "metadata": {
        "id": "5M3COpj8Sx5C"
      },
      "source": [
        "d = {'x_тестовое': x_te}\n",
        "data_an = pd.DataFrame(data=d)\n",
        "data_an['x_тестовое_дата'] = data_an['x_тестовое'].map(lambda x: num_to_date(x))\n",
        "data_an['y_тестовое'] = ytest\n",
        "data_an['y_предсказанное_dtr'] = ypred"
      ],
      "execution_count": null,
      "outputs": []
    },
    {
      "cell_type": "code",
      "metadata": {
        "id": "EZ80NdVfbZmV",
        "colab": {
          "base_uri": "https://localhost:8080/",
          "height": 35
        },
        "outputId": "eb992b84-d5da-469b-dc69-3f5ebd9ab36f"
      },
      "source": [
        "num_to_date(13)"
      ],
      "execution_count": null,
      "outputs": [
        {
          "output_type": "execute_result",
          "data": {
            "application/vnd.google.colaboratory.intrinsic+json": {
              "type": "string"
            },
            "text/plain": [
              "'2.2004'"
            ]
          },
          "metadata": {
            "tags": []
          },
          "execution_count": 68
        }
      ]
    },
    {
      "cell_type": "code",
      "metadata": {
        "id": "CPLFeoXOSo31",
        "colab": {
          "base_uri": "https://localhost:8080/",
          "height": 402
        },
        "outputId": "7de91800-3050-4580-93ca-b87a9360bcbf"
      },
      "source": [
        "data_an"
      ],
      "execution_count": null,
      "outputs": [
        {
          "output_type": "execute_result",
          "data": {
            "text/html": [
              "<div>\n",
              "<style scoped>\n",
              "    .dataframe tbody tr th:only-of-type {\n",
              "        vertical-align: middle;\n",
              "    }\n",
              "\n",
              "    .dataframe tbody tr th {\n",
              "        vertical-align: top;\n",
              "    }\n",
              "\n",
              "    .dataframe thead th {\n",
              "        text-align: right;\n",
              "    }\n",
              "</style>\n",
              "<table border=\"1\" class=\"dataframe\">\n",
              "  <thead>\n",
              "    <tr style=\"text-align: right;\">\n",
              "      <th></th>\n",
              "      <th>x_тестовое</th>\n",
              "      <th>x_тестовое_дата</th>\n",
              "      <th>y_тестовое</th>\n",
              "      <th>y_предсказанное_dtr</th>\n",
              "    </tr>\n",
              "  </thead>\n",
              "  <tbody>\n",
              "    <tr>\n",
              "      <th>0</th>\n",
              "      <td>78</td>\n",
              "      <td>7.2009</td>\n",
              "      <td>247575.0</td>\n",
              "      <td>262537.833333</td>\n",
              "    </tr>\n",
              "    <tr>\n",
              "      <th>1</th>\n",
              "      <td>97</td>\n",
              "      <td>2.2011</td>\n",
              "      <td>198122.0</td>\n",
              "      <td>186489.000000</td>\n",
              "    </tr>\n",
              "    <tr>\n",
              "      <th>2</th>\n",
              "      <td>151</td>\n",
              "      <td>8.2015</td>\n",
              "      <td>209971.0</td>\n",
              "      <td>209251.750000</td>\n",
              "    </tr>\n",
              "    <tr>\n",
              "      <th>3</th>\n",
              "      <td>44</td>\n",
              "      <td>9.2006</td>\n",
              "      <td>325988.0</td>\n",
              "      <td>317365.111111</td>\n",
              "    </tr>\n",
              "    <tr>\n",
              "      <th>4</th>\n",
              "      <td>40</td>\n",
              "      <td>5.2006</td>\n",
              "      <td>346939.0</td>\n",
              "      <td>317365.111111</td>\n",
              "    </tr>\n",
              "    <tr>\n",
              "      <th>...</th>\n",
              "      <td>...</td>\n",
              "      <td>...</td>\n",
              "      <td>...</td>\n",
              "      <td>...</td>\n",
              "    </tr>\n",
              "    <tr>\n",
              "      <th>77</th>\n",
              "      <td>66</td>\n",
              "      <td>7.2008</td>\n",
              "      <td>258726.0</td>\n",
              "      <td>281737.750000</td>\n",
              "    </tr>\n",
              "    <tr>\n",
              "      <th>78</th>\n",
              "      <td>114</td>\n",
              "      <td>7.2012</td>\n",
              "      <td>188732.0</td>\n",
              "      <td>188773.208333</td>\n",
              "    </tr>\n",
              "    <tr>\n",
              "      <th>79</th>\n",
              "      <td>54</td>\n",
              "      <td>7.2007</td>\n",
              "      <td>299382.0</td>\n",
              "      <td>317365.111111</td>\n",
              "    </tr>\n",
              "    <tr>\n",
              "      <th>80</th>\n",
              "      <td>93</td>\n",
              "      <td>10.2010</td>\n",
              "      <td>211816.0</td>\n",
              "      <td>220874.000000</td>\n",
              "    </tr>\n",
              "    <tr>\n",
              "      <th>81</th>\n",
              "      <td>122</td>\n",
              "      <td>3.2013</td>\n",
              "      <td>195578.0</td>\n",
              "      <td>188773.208333</td>\n",
              "    </tr>\n",
              "  </tbody>\n",
              "</table>\n",
              "<p>82 rows × 4 columns</p>\n",
              "</div>"
            ],
            "text/plain": [
              "    x_тестовое x_тестовое_дата  y_тестовое  y_предсказанное_dtr\n",
              "0           78          7.2009    247575.0        262537.833333\n",
              "1           97          2.2011    198122.0        186489.000000\n",
              "2          151          8.2015    209971.0        209251.750000\n",
              "3           44          9.2006    325988.0        317365.111111\n",
              "4           40          5.2006    346939.0        317365.111111\n",
              "..         ...             ...         ...                  ...\n",
              "77          66          7.2008    258726.0        281737.750000\n",
              "78         114          7.2012    188732.0        188773.208333\n",
              "79          54          7.2007    299382.0        317365.111111\n",
              "80          93         10.2010    211816.0        220874.000000\n",
              "81         122          3.2013    195578.0        188773.208333\n",
              "\n",
              "[82 rows x 4 columns]"
            ]
          },
          "metadata": {
            "tags": []
          },
          "execution_count": 69
        }
      ]
    },
    {
      "cell_type": "markdown",
      "metadata": {
        "id": "CkRHUTLH3HQC"
      },
      "source": [
        "Тренеруем вторую модель XGBoost Regression"
      ]
    },
    {
      "cell_type": "code",
      "metadata": {
        "id": "rTr064XUmcbU"
      },
      "source": [
        "xg_reg = xgb.XGBRegressor(objective ='reg:linear', colsample_bytree = 0.3, learning_rate = 1,\n",
        "                          max_depth = 4, alpha = 10, n_estimators = 11)"
      ],
      "execution_count": null,
      "outputs": []
    },
    {
      "cell_type": "code",
      "metadata": {
        "id": "t4KR6y0UmclB",
        "colab": {
          "base_uri": "https://localhost:8080/"
        },
        "outputId": "2a7c2daf-1e9e-4d6e-bea3-9fd22546ab27"
      },
      "source": [
        "xg_reg.fit(xtrain,ytrain)\n",
        "\n",
        "preds = xg_reg.predict(xtest)"
      ],
      "execution_count": null,
      "outputs": [
        {
          "output_type": "stream",
          "text": [
            "[14:24:17] WARNING: /workspace/src/objective/regression_obj.cu:152: reg:linear is now deprecated in favor of reg:squarederror.\n"
          ],
          "name": "stdout"
        }
      ]
    },
    {
      "cell_type": "markdown",
      "metadata": {
        "id": "U4W2hggf3Xc6"
      },
      "source": [
        "Считаем RMSE"
      ]
    },
    {
      "cell_type": "code",
      "metadata": {
        "id": "UQFUAUT9mnKD",
        "colab": {
          "base_uri": "https://localhost:8080/"
        },
        "outputId": "287e682b-9862-447a-bd99-0831ba072235"
      },
      "source": [
        "rmse = np.sqrt(mean_squared_error(ytest, preds))\n",
        "print(\"RMSE: %f\" % (rmse))"
      ],
      "execution_count": null,
      "outputs": [
        {
          "output_type": "stream",
          "text": [
            "RMSE: 17949.698561\n"
          ],
          "name": "stdout"
        }
      ]
    },
    {
      "cell_type": "markdown",
      "metadata": {
        "id": "qPJdBMzQ3dTB"
      },
      "source": [
        "Добавляем предсказанные ответы в таблицу с ответами"
      ]
    },
    {
      "cell_type": "code",
      "metadata": {
        "id": "EXQyK5m6Tg9x"
      },
      "source": [
        "data_an['y_предсказанное_xgb'] = preds"
      ],
      "execution_count": null,
      "outputs": []
    },
    {
      "cell_type": "code",
      "metadata": {
        "id": "K3BGlTzmThHL",
        "colab": {
          "base_uri": "https://localhost:8080/",
          "height": 402
        },
        "outputId": "45b7de5a-c274-46fc-88b9-7e2341be00cb"
      },
      "source": [
        "data_an"
      ],
      "execution_count": null,
      "outputs": [
        {
          "output_type": "execute_result",
          "data": {
            "text/html": [
              "<div>\n",
              "<style scoped>\n",
              "    .dataframe tbody tr th:only-of-type {\n",
              "        vertical-align: middle;\n",
              "    }\n",
              "\n",
              "    .dataframe tbody tr th {\n",
              "        vertical-align: top;\n",
              "    }\n",
              "\n",
              "    .dataframe thead th {\n",
              "        text-align: right;\n",
              "    }\n",
              "</style>\n",
              "<table border=\"1\" class=\"dataframe\">\n",
              "  <thead>\n",
              "    <tr style=\"text-align: right;\">\n",
              "      <th></th>\n",
              "      <th>x_тестовое</th>\n",
              "      <th>x_тестовое_дата</th>\n",
              "      <th>y_тестовое</th>\n",
              "      <th>y_предсказанное_dtr</th>\n",
              "      <th>y_предсказанное_xgb</th>\n",
              "    </tr>\n",
              "  </thead>\n",
              "  <tbody>\n",
              "    <tr>\n",
              "      <th>0</th>\n",
              "      <td>78</td>\n",
              "      <td>7.2009</td>\n",
              "      <td>247575.0</td>\n",
              "      <td>262537.833333</td>\n",
              "      <td>249392.078125</td>\n",
              "    </tr>\n",
              "    <tr>\n",
              "      <th>1</th>\n",
              "      <td>97</td>\n",
              "      <td>2.2011</td>\n",
              "      <td>198122.0</td>\n",
              "      <td>186489.000000</td>\n",
              "      <td>187894.968750</td>\n",
              "    </tr>\n",
              "    <tr>\n",
              "      <th>2</th>\n",
              "      <td>151</td>\n",
              "      <td>8.2015</td>\n",
              "      <td>209971.0</td>\n",
              "      <td>209251.750000</td>\n",
              "      <td>213707.421875</td>\n",
              "    </tr>\n",
              "    <tr>\n",
              "      <th>3</th>\n",
              "      <td>44</td>\n",
              "      <td>9.2006</td>\n",
              "      <td>325988.0</td>\n",
              "      <td>317365.111111</td>\n",
              "      <td>331530.812500</td>\n",
              "    </tr>\n",
              "    <tr>\n",
              "      <th>4</th>\n",
              "      <td>40</td>\n",
              "      <td>5.2006</td>\n",
              "      <td>346939.0</td>\n",
              "      <td>317365.111111</td>\n",
              "      <td>331530.812500</td>\n",
              "    </tr>\n",
              "    <tr>\n",
              "      <th>...</th>\n",
              "      <td>...</td>\n",
              "      <td>...</td>\n",
              "      <td>...</td>\n",
              "      <td>...</td>\n",
              "      <td>...</td>\n",
              "    </tr>\n",
              "    <tr>\n",
              "      <th>77</th>\n",
              "      <td>66</td>\n",
              "      <td>7.2008</td>\n",
              "      <td>258726.0</td>\n",
              "      <td>281737.750000</td>\n",
              "      <td>277558.437500</td>\n",
              "    </tr>\n",
              "    <tr>\n",
              "      <th>78</th>\n",
              "      <td>114</td>\n",
              "      <td>7.2012</td>\n",
              "      <td>188732.0</td>\n",
              "      <td>188773.208333</td>\n",
              "      <td>198861.406250</td>\n",
              "    </tr>\n",
              "    <tr>\n",
              "      <th>79</th>\n",
              "      <td>54</td>\n",
              "      <td>7.2007</td>\n",
              "      <td>299382.0</td>\n",
              "      <td>317365.111111</td>\n",
              "      <td>309754.312500</td>\n",
              "    </tr>\n",
              "    <tr>\n",
              "      <th>80</th>\n",
              "      <td>93</td>\n",
              "      <td>10.2010</td>\n",
              "      <td>211816.0</td>\n",
              "      <td>220874.000000</td>\n",
              "      <td>222206.421875</td>\n",
              "    </tr>\n",
              "    <tr>\n",
              "      <th>81</th>\n",
              "      <td>122</td>\n",
              "      <td>3.2013</td>\n",
              "      <td>195578.0</td>\n",
              "      <td>188773.208333</td>\n",
              "      <td>186761.375000</td>\n",
              "    </tr>\n",
              "  </tbody>\n",
              "</table>\n",
              "<p>82 rows × 5 columns</p>\n",
              "</div>"
            ],
            "text/plain": [
              "    x_тестовое x_тестовое_дата  ...  y_предсказанное_dtr  y_предсказанное_xgb\n",
              "0           78          7.2009  ...        262537.833333        249392.078125\n",
              "1           97          2.2011  ...        186489.000000        187894.968750\n",
              "2          151          8.2015  ...        209251.750000        213707.421875\n",
              "3           44          9.2006  ...        317365.111111        331530.812500\n",
              "4           40          5.2006  ...        317365.111111        331530.812500\n",
              "..         ...             ...  ...                  ...                  ...\n",
              "77          66          7.2008  ...        281737.750000        277558.437500\n",
              "78         114          7.2012  ...        188773.208333        198861.406250\n",
              "79          54          7.2007  ...        317365.111111        309754.312500\n",
              "80          93         10.2010  ...        220874.000000        222206.421875\n",
              "81         122          3.2013  ...        188773.208333        186761.375000\n",
              "\n",
              "[82 rows x 5 columns]"
            ]
          },
          "metadata": {
            "tags": []
          },
          "execution_count": 75
        }
      ]
    },
    {
      "cell_type": "markdown",
      "metadata": {
        "id": "TTcvzBZO3nCd"
      },
      "source": [
        "Посчитаем процентные ошибки каждого ответа и добавим в таблицу ответов, используя функцию er_percent"
      ]
    },
    {
      "cell_type": "code",
      "metadata": {
        "id": "bFUmCdLgVrZj"
      },
      "source": [
        "def er_percent(df, col_test, col_pred, name_er_col):\n",
        "  df[name_er_col] = [round(abs(df[col_pred][i]-df[col_test][i])/df[col_test][i]*100, 2) for i in range(df[col_test].count())]"
      ],
      "execution_count": null,
      "outputs": []
    },
    {
      "cell_type": "code",
      "metadata": {
        "id": "f5sIgxg7ThPp"
      },
      "source": [
        "er_percent(data_an, 'y_тестовое', 'y_предсказанное_dtr', 'ошибка_dtr,%')\n",
        "er_percent(data_an, 'y_тестовое', 'y_предсказанное_xgb', 'ошибка_xgbr,%')"
      ],
      "execution_count": null,
      "outputs": []
    },
    {
      "cell_type": "code",
      "metadata": {
        "id": "JkC2VREhVmGA",
        "colab": {
          "base_uri": "https://localhost:8080/",
          "height": 402
        },
        "outputId": "b37c2c92-40d4-4f12-9fe7-cd2e394d44fb"
      },
      "source": [
        "data_an"
      ],
      "execution_count": null,
      "outputs": [
        {
          "output_type": "execute_result",
          "data": {
            "text/html": [
              "<div>\n",
              "<style scoped>\n",
              "    .dataframe tbody tr th:only-of-type {\n",
              "        vertical-align: middle;\n",
              "    }\n",
              "\n",
              "    .dataframe tbody tr th {\n",
              "        vertical-align: top;\n",
              "    }\n",
              "\n",
              "    .dataframe thead th {\n",
              "        text-align: right;\n",
              "    }\n",
              "</style>\n",
              "<table border=\"1\" class=\"dataframe\">\n",
              "  <thead>\n",
              "    <tr style=\"text-align: right;\">\n",
              "      <th></th>\n",
              "      <th>x_тестовое</th>\n",
              "      <th>x_тестовое_дата</th>\n",
              "      <th>y_тестовое</th>\n",
              "      <th>y_предсказанное_dtr</th>\n",
              "      <th>y_предсказанное_xgb</th>\n",
              "      <th>ошибка_dtr,%</th>\n",
              "      <th>ошибка_xgbr,%</th>\n",
              "    </tr>\n",
              "  </thead>\n",
              "  <tbody>\n",
              "    <tr>\n",
              "      <th>0</th>\n",
              "      <td>78</td>\n",
              "      <td>7.2009</td>\n",
              "      <td>247575.0</td>\n",
              "      <td>262537.833333</td>\n",
              "      <td>249392.078125</td>\n",
              "      <td>6.04</td>\n",
              "      <td>0.73</td>\n",
              "    </tr>\n",
              "    <tr>\n",
              "      <th>1</th>\n",
              "      <td>97</td>\n",
              "      <td>2.2011</td>\n",
              "      <td>198122.0</td>\n",
              "      <td>186489.000000</td>\n",
              "      <td>187894.968750</td>\n",
              "      <td>5.87</td>\n",
              "      <td>5.16</td>\n",
              "    </tr>\n",
              "    <tr>\n",
              "      <th>2</th>\n",
              "      <td>151</td>\n",
              "      <td>8.2015</td>\n",
              "      <td>209971.0</td>\n",
              "      <td>209251.750000</td>\n",
              "      <td>213707.421875</td>\n",
              "      <td>0.34</td>\n",
              "      <td>1.78</td>\n",
              "    </tr>\n",
              "    <tr>\n",
              "      <th>3</th>\n",
              "      <td>44</td>\n",
              "      <td>9.2006</td>\n",
              "      <td>325988.0</td>\n",
              "      <td>317365.111111</td>\n",
              "      <td>331530.812500</td>\n",
              "      <td>2.65</td>\n",
              "      <td>1.70</td>\n",
              "    </tr>\n",
              "    <tr>\n",
              "      <th>4</th>\n",
              "      <td>40</td>\n",
              "      <td>5.2006</td>\n",
              "      <td>346939.0</td>\n",
              "      <td>317365.111111</td>\n",
              "      <td>331530.812500</td>\n",
              "      <td>8.52</td>\n",
              "      <td>4.44</td>\n",
              "    </tr>\n",
              "    <tr>\n",
              "      <th>...</th>\n",
              "      <td>...</td>\n",
              "      <td>...</td>\n",
              "      <td>...</td>\n",
              "      <td>...</td>\n",
              "      <td>...</td>\n",
              "      <td>...</td>\n",
              "      <td>...</td>\n",
              "    </tr>\n",
              "    <tr>\n",
              "      <th>77</th>\n",
              "      <td>66</td>\n",
              "      <td>7.2008</td>\n",
              "      <td>258726.0</td>\n",
              "      <td>281737.750000</td>\n",
              "      <td>277558.437500</td>\n",
              "      <td>8.89</td>\n",
              "      <td>7.28</td>\n",
              "    </tr>\n",
              "    <tr>\n",
              "      <th>78</th>\n",
              "      <td>114</td>\n",
              "      <td>7.2012</td>\n",
              "      <td>188732.0</td>\n",
              "      <td>188773.208333</td>\n",
              "      <td>198861.406250</td>\n",
              "      <td>0.02</td>\n",
              "      <td>5.37</td>\n",
              "    </tr>\n",
              "    <tr>\n",
              "      <th>79</th>\n",
              "      <td>54</td>\n",
              "      <td>7.2007</td>\n",
              "      <td>299382.0</td>\n",
              "      <td>317365.111111</td>\n",
              "      <td>309754.312500</td>\n",
              "      <td>6.01</td>\n",
              "      <td>3.46</td>\n",
              "    </tr>\n",
              "    <tr>\n",
              "      <th>80</th>\n",
              "      <td>93</td>\n",
              "      <td>10.2010</td>\n",
              "      <td>211816.0</td>\n",
              "      <td>220874.000000</td>\n",
              "      <td>222206.421875</td>\n",
              "      <td>4.28</td>\n",
              "      <td>4.91</td>\n",
              "    </tr>\n",
              "    <tr>\n",
              "      <th>81</th>\n",
              "      <td>122</td>\n",
              "      <td>3.2013</td>\n",
              "      <td>195578.0</td>\n",
              "      <td>188773.208333</td>\n",
              "      <td>186761.375000</td>\n",
              "      <td>3.48</td>\n",
              "      <td>4.51</td>\n",
              "    </tr>\n",
              "  </tbody>\n",
              "</table>\n",
              "<p>82 rows × 7 columns</p>\n",
              "</div>"
            ],
            "text/plain": [
              "    x_тестовое x_тестовое_дата  ...  ошибка_dtr,%  ошибка_xgbr,%\n",
              "0           78          7.2009  ...          6.04           0.73\n",
              "1           97          2.2011  ...          5.87           5.16\n",
              "2          151          8.2015  ...          0.34           1.78\n",
              "3           44          9.2006  ...          2.65           1.70\n",
              "4           40          5.2006  ...          8.52           4.44\n",
              "..         ...             ...  ...           ...            ...\n",
              "77          66          7.2008  ...          8.89           7.28\n",
              "78         114          7.2012  ...          0.02           5.37\n",
              "79          54          7.2007  ...          6.01           3.46\n",
              "80          93         10.2010  ...          4.28           4.91\n",
              "81         122          3.2013  ...          3.48           4.51\n",
              "\n",
              "[82 rows x 7 columns]"
            ]
          },
          "metadata": {
            "tags": []
          },
          "execution_count": 78
        }
      ]
    },
    {
      "cell_type": "markdown",
      "metadata": {
        "id": "EYjnCfIh38uD"
      },
      "source": [
        "Считаем MAPE обеих моделей и выводим вместе с RMSE"
      ]
    },
    {
      "cell_type": "code",
      "metadata": {
        "id": "eRWVyeNpW7Ew",
        "colab": {
          "base_uri": "https://localhost:8080/"
        },
        "outputId": "bd53934c-bd82-4c23-e101-4172d031d479"
      },
      "source": [
        "mape_dtr = round(data_an['ошибка_dtr,%'].mean(), 2)\n",
        "mape_xgbr = round(data_an['ошибка_xgbr,%'].mean(), 2)\n",
        "print(f'средняя процентная ошибка модели dtr: {mape_dtr}%\\nсредняя процентная ошибка модели xgbr: {mape_xgbr}%')\n",
        "print(f'\\nкорень из среднеквадратической ошибки dtr: {round(mse**(1/2.0), 3)}\\nкорень из среднеквадратической ошибки xgbr: {round(rmse, 3)}')"
      ],
      "execution_count": null,
      "outputs": [
        {
          "output_type": "stream",
          "text": [
            "средняя процентная ошибка модели dtr: 7.01%\n",
            "средняя процентная ошибка модели xgbr: 5.83%\n",
            "\n",
            "корень из среднеквадратической ошибки dtr: 19662.537\n",
            "корень из среднеквадратической ошибки xgbr: 17949.699\n"
          ],
          "name": "stdout"
        }
      ]
    }
  ]
}